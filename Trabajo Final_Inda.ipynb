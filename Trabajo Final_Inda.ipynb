{
 "cells": [
  {
   "cell_type": "markdown",
   "id": "929bd943",
   "metadata": {},
   "source": [
    "# \"My Jupyter Notebook on IBM Watson Studio\""
   ]
  },
  {
   "cell_type": "markdown",
   "id": "b9c4682e",
   "metadata": {},
   "source": [
    "**Marcela R. Inda**\n",
    "\n",
    "Estudiante de Tecnicatura en Ciencia de Datos e Inteligencia Artificial"
   ]
  },
  {
   "cell_type": "markdown",
   "id": "e805504f",
   "metadata": {},
   "source": [
    "*Estoy interesada en la ciencia de datos porque despierta mi curiosidad con cada concepto nuevo que aprendo, la idea de que con los datos podamos realizar tanto me resulta fascinante*."
   ]
  },
  {
   "cell_type": "markdown",
   "id": "85770247",
   "metadata": {},
   "source": [
    "El siguiente es mi primer código de \"Hola Mundo\" en Jupyter Notebook, imprime en pantalla el saludo \"Hola,Mundo\""
   ]
  },
  {
   "cell_type": "code",
   "execution_count": 2,
   "id": "5dff1326",
   "metadata": {},
   "outputs": [
    {
     "name": "stdout",
     "output_type": "stream",
     "text": [
      "¡Hola, mundo!\n"
     ]
    }
   ],
   "source": [
    "print (\"¡Hola, mundo!\")"
   ]
  },
  {
   "cell_type": "markdown",
   "id": "2ead3c54",
   "metadata": {},
   "source": [
    "1. Python\n",
    "2. R\n",
    "3. Julia\n",
    "4. Ruby\n",
    "\n",
    "* Data management\n",
    "* Data Integration and Transformation\n",
    "* Data Visualization\n",
    "* Model Building\n",
    "* Model Deployment\n",
    "* Model Monitoring and Assessment\n",
    "\n",
    "[Curso Herramientas para Ciencia de Datos de Coursera](https://www.coursera.org/learn/open-source-tools-for-data-science/home/welcome)\n"
   ]
  },
  {
   "cell_type": "code",
   "execution_count": null,
   "id": "99b8dd91",
   "metadata": {},
   "outputs": [],
   "source": []
  }
 ],
 "metadata": {
  "kernelspec": {
   "display_name": "Python 3 (ipykernel)",
   "language": "python",
   "name": "python3"
  },
  "language_info": {
   "codemirror_mode": {
    "name": "ipython",
    "version": 3
   },
   "file_extension": ".py",
   "mimetype": "text/x-python",
   "name": "python",
   "nbconvert_exporter": "python",
   "pygments_lexer": "ipython3",
   "version": "3.8.10"
  }
 },
 "nbformat": 4,
 "nbformat_minor": 5
}
